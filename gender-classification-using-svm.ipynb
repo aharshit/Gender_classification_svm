{
 "cells": [
  {
   "cell_type": "markdown",
   "id": "0376aaea",
   "metadata": {
    "papermill": {
     "duration": 0.005632,
     "end_time": "2023-07-04T08:32:21.679214",
     "exception": false,
     "start_time": "2023-07-04T08:32:21.673582",
     "status": "completed"
    },
    "tags": []
   },
   "source": [
    "All the required packages are imported "
   ]
  },
  {
   "cell_type": "code",
   "execution_count": 1,
   "id": "1a497a92",
   "metadata": {
    "execution": {
     "iopub.execute_input": "2023-07-04T08:32:21.691993Z",
     "iopub.status.busy": "2023-07-04T08:32:21.691617Z",
     "iopub.status.idle": "2023-07-04T08:32:23.197248Z",
     "shell.execute_reply": "2023-07-04T08:32:23.196254Z"
    },
    "papermill": {
     "duration": 1.514987,
     "end_time": "2023-07-04T08:32:23.199811",
     "exception": false,
     "start_time": "2023-07-04T08:32:21.684824",
     "status": "completed"
    },
    "tags": []
   },
   "outputs": [],
   "source": [
    "import numpy as np\n",
    "import pandas as pd \n",
    "import matplotlib.pyplot as plt\n",
    "import os\n",
    "import seaborn as sns"
   ]
  },
  {
   "cell_type": "code",
   "execution_count": 2,
   "id": "46c31cf8",
   "metadata": {
    "execution": {
     "iopub.execute_input": "2023-07-04T08:32:23.212375Z",
     "iopub.status.busy": "2023-07-04T08:32:23.211985Z",
     "iopub.status.idle": "2023-07-04T08:32:24.432896Z",
     "shell.execute_reply": "2023-07-04T08:32:24.431683Z"
    },
    "papermill": {
     "duration": 1.230137,
     "end_time": "2023-07-04T08:32:24.435391",
     "exception": false,
     "start_time": "2023-07-04T08:32:23.205254",
     "status": "completed"
    },
    "tags": []
   },
   "outputs": [],
   "source": [
    "import cv2\n",
    "from skimage.feature import hog\n",
    "from sklearn.metrics import accuracy_score\n",
    "from sklearn.preprocessing import StandardScaler\n",
    "from sklearn.svm import SVC\n",
    "from sklearn.metrics import confusion_matrix\n",
    "from sklearn.model_selection import GridSearchCV"
   ]
  },
  {
   "cell_type": "markdown",
   "id": "47ae07f4",
   "metadata": {
    "papermill": {
     "duration": 0.005282,
     "end_time": "2023-07-04T08:32:24.446335",
     "exception": false,
     "start_time": "2023-07-04T08:32:24.441053",
     "status": "completed"
    },
    "tags": []
   },
   "source": [
    "Path of test and training data is obtained"
   ]
  },
  {
   "cell_type": "code",
   "execution_count": 3,
   "id": "4885d078",
   "metadata": {
    "execution": {
     "iopub.execute_input": "2023-07-04T08:32:24.460536Z",
     "iopub.status.busy": "2023-07-04T08:32:24.459965Z",
     "iopub.status.idle": "2023-07-04T08:32:24.464472Z",
     "shell.execute_reply": "2023-07-04T08:32:24.463363Z"
    },
    "papermill": {
     "duration": 0.014268,
     "end_time": "2023-07-04T08:32:24.466944",
     "exception": false,
     "start_time": "2023-07-04T08:32:24.452676",
     "status": "completed"
    },
    "tags": []
   },
   "outputs": [],
   "source": [
    "TEST_DATADIR='/kaggle/input/gender-classification-dataset/Validation'\n",
    "TRAIN_DATADIR='/kaggle/input/gender-classification-dataset/Training'\n",
    "CATEGORIES = [\"female\", \"male\"]   # Class 0=female, Class 1=male\n"
   ]
  },
  {
   "cell_type": "markdown",
   "id": "c4ab6d16",
   "metadata": {
    "papermill": {
     "duration": 0.005172,
     "end_time": "2023-07-04T08:32:24.478742",
     "exception": false,
     "start_time": "2023-07-04T08:32:24.473570",
     "status": "completed"
    },
    "tags": []
   },
   "source": [
    "Function which extracts hog features of an image"
   ]
  },
  {
   "cell_type": "code",
   "execution_count": 4,
   "id": "4af4bd63",
   "metadata": {
    "execution": {
     "iopub.execute_input": "2023-07-04T08:32:24.490996Z",
     "iopub.status.busy": "2023-07-04T08:32:24.490606Z",
     "iopub.status.idle": "2023-07-04T08:32:24.499052Z",
     "shell.execute_reply": "2023-07-04T08:32:24.498015Z"
    },
    "papermill": {
     "duration": 0.017268,
     "end_time": "2023-07-04T08:32:24.501184",
     "exception": false,
     "start_time": "2023-07-04T08:32:24.483916",
     "status": "completed"
    },
    "tags": []
   },
   "outputs": [],
   "source": [
    "def load_images(data_dir,t_images,t_labels):\n",
    "    for category in CATEGORIES:  \n",
    "        path = os.path.join(data_dir,category)\n",
    "        class_num = CATEGORIES.index(category)\n",
    "        image_cnt = 0\n",
    "        for img in os.listdir(path):  \n",
    "            if image_cnt > 3000:\n",
    "                break\n",
    "            image = cv2.imread(os.path.join(path,img))\n",
    "            image = np.array(image).astype('uint8')\n",
    "            image = cv2.resize(image, (64, 64))\n",
    "            grey_image = cv2.cvtColor(image, cv2.COLOR_BGR2GRAY)\n",
    "            hog_features, hog_images = hog(grey_image,\n",
    "                                      visualize=True,\n",
    "                                      block_norm='L2-Hys',\n",
    "                                      pixels_per_cell=(16, 16))\n",
    "            label=class_num\n",
    "            t_images.append(hog_features)\n",
    "            t_labels.append(label)\n",
    "            image_cnt+=1\n",
    "\n"
   ]
  },
  {
   "cell_type": "markdown",
   "id": "1b56326b",
   "metadata": {
    "papermill": {
     "duration": 0.00485,
     "end_time": "2023-07-04T08:32:24.511216",
     "exception": false,
     "start_time": "2023-07-04T08:32:24.506366",
     "status": "completed"
    },
    "tags": []
   },
   "source": [
    "Transformation of the data "
   ]
  },
  {
   "cell_type": "code",
   "execution_count": 5,
   "id": "b3d6c257",
   "metadata": {
    "execution": {
     "iopub.execute_input": "2023-07-04T08:32:24.523353Z",
     "iopub.status.busy": "2023-07-04T08:32:24.522740Z",
     "iopub.status.idle": "2023-07-04T08:32:24.528470Z",
     "shell.execute_reply": "2023-07-04T08:32:24.527787Z"
    },
    "papermill": {
     "duration": 0.014098,
     "end_time": "2023-07-04T08:32:24.530467",
     "exception": false,
     "start_time": "2023-07-04T08:32:24.516369",
     "status": "completed"
    },
    "tags": []
   },
   "outputs": [],
   "source": [
    "def transformation(images,labels):\n",
    "    images_array = np.array(images)\n",
    "    labels_array = np.array(labels)\n",
    "    labels_array = labels_array.astype(int)\n",
    "    labels_array = labels_array.reshape((labels_array.size,1))\n",
    "    images_df = np.concatenate([images_array, labels_array], axis = 1)\n",
    "    return images_df[:,:-1],images_df[:,-1].ravel()"
   ]
  },
  {
   "cell_type": "markdown",
   "id": "9d1baaa6",
   "metadata": {
    "papermill": {
     "duration": 0.004897,
     "end_time": "2023-07-04T08:32:24.540567",
     "exception": false,
     "start_time": "2023-07-04T08:32:24.535670",
     "status": "completed"
    },
    "tags": []
   },
   "source": [
    "Performing the required operations on training data"
   ]
  },
  {
   "cell_type": "code",
   "execution_count": 6,
   "id": "77f3f921",
   "metadata": {
    "execution": {
     "iopub.execute_input": "2023-07-04T08:32:24.553434Z",
     "iopub.status.busy": "2023-07-04T08:32:24.552771Z",
     "iopub.status.idle": "2023-07-04T08:33:38.781131Z",
     "shell.execute_reply": "2023-07-04T08:33:38.780078Z"
    },
    "papermill": {
     "duration": 74.237713,
     "end_time": "2023-07-04T08:33:38.783706",
     "exception": false,
     "start_time": "2023-07-04T08:32:24.545993",
     "status": "completed"
    },
    "tags": []
   },
   "outputs": [],
   "source": [
    "train_images = []\n",
    "train_labels = []\n",
    "load_images(TRAIN_DATADIR,train_images,train_labels)\n",
    "x_train,y_train=transformation(train_images,train_labels)"
   ]
  },
  {
   "cell_type": "markdown",
   "id": "5558bd17",
   "metadata": {
    "papermill": {
     "duration": 0.004945,
     "end_time": "2023-07-04T08:33:38.793954",
     "exception": false,
     "start_time": "2023-07-04T08:33:38.789009",
     "status": "completed"
    },
    "tags": []
   },
   "source": [
    "Performing the required operations on testing data"
   ]
  },
  {
   "cell_type": "code",
   "execution_count": 7,
   "id": "eee81578",
   "metadata": {
    "execution": {
     "iopub.execute_input": "2023-07-04T08:33:38.808235Z",
     "iopub.status.busy": "2023-07-04T08:33:38.806193Z",
     "iopub.status.idle": "2023-07-04T08:34:52.043157Z",
     "shell.execute_reply": "2023-07-04T08:34:52.041982Z"
    },
    "papermill": {
     "duration": 73.246823,
     "end_time": "2023-07-04T08:34:52.046464",
     "exception": false,
     "start_time": "2023-07-04T08:33:38.799641",
     "status": "completed"
    },
    "tags": []
   },
   "outputs": [],
   "source": [
    "test_images = []\n",
    "test_labels = []\n",
    "load_images(TEST_DATADIR,test_images,test_labels)\n",
    "x_test,y_test=transformation(test_images,test_labels)"
   ]
  },
  {
   "cell_type": "markdown",
   "id": "eec05ea0",
   "metadata": {
    "papermill": {
     "duration": 0.00506,
     "end_time": "2023-07-04T08:34:52.058010",
     "exception": false,
     "start_time": "2023-07-04T08:34:52.052950",
     "status": "completed"
    },
    "tags": []
   },
   "source": [
    "Training the model"
   ]
  },
  {
   "cell_type": "code",
   "execution_count": 8,
   "id": "969c55c7",
   "metadata": {
    "execution": {
     "iopub.execute_input": "2023-07-04T08:34:52.070285Z",
     "iopub.status.busy": "2023-07-04T08:34:52.069894Z",
     "iopub.status.idle": "2023-07-04T08:34:52.074486Z",
     "shell.execute_reply": "2023-07-04T08:34:52.073321Z"
    },
    "papermill": {
     "duration": 0.013279,
     "end_time": "2023-07-04T08:34:52.076528",
     "exception": false,
     "start_time": "2023-07-04T08:34:52.063249",
     "status": "completed"
    },
    "tags": []
   },
   "outputs": [],
   "source": [
    "param_grid = {'kernel': ('linear', 'rbf'),'C': [1, 10, 100]}"
   ]
  },
  {
   "cell_type": "code",
   "execution_count": 9,
   "id": "50198bc9",
   "metadata": {
    "execution": {
     "iopub.execute_input": "2023-07-04T08:34:52.088829Z",
     "iopub.status.busy": "2023-07-04T08:34:52.088460Z",
     "iopub.status.idle": "2023-07-04T08:34:52.093123Z",
     "shell.execute_reply": "2023-07-04T08:34:52.091967Z"
    },
    "papermill": {
     "duration": 0.013628,
     "end_time": "2023-07-04T08:34:52.095352",
     "exception": false,
     "start_time": "2023-07-04T08:34:52.081724",
     "status": "completed"
    },
    "tags": []
   },
   "outputs": [],
   "source": [
    "base_estimator = SVC(gamma='scale')"
   ]
  },
  {
   "cell_type": "code",
   "execution_count": 10,
   "id": "175f0664",
   "metadata": {
    "execution": {
     "iopub.execute_input": "2023-07-04T08:34:52.107593Z",
     "iopub.status.busy": "2023-07-04T08:34:52.107213Z",
     "iopub.status.idle": "2023-07-04T08:36:26.930048Z",
     "shell.execute_reply": "2023-07-04T08:36:26.928731Z"
    },
    "papermill": {
     "duration": 94.837407,
     "end_time": "2023-07-04T08:36:26.937996",
     "exception": false,
     "start_time": "2023-07-04T08:34:52.100589",
     "status": "completed"
    },
    "tags": []
   },
   "outputs": [
    {
     "name": "stdout",
     "output_type": "stream",
     "text": [
      "{'C': 10, 'kernel': 'rbf'}\n"
     ]
    }
   ],
   "source": [
    "\n",
    "svm = GridSearchCV(base_estimator, param_grid, cv=5)\n",
    "svm.fit(x_train,y_train)\n",
    "best_parameters = svm.best_params_\n",
    "print(best_parameters)\n"
   ]
  },
  {
   "cell_type": "markdown",
   "id": "55b576cf",
   "metadata": {
    "papermill": {
     "duration": 0.005099,
     "end_time": "2023-07-04T08:36:26.948490",
     "exception": false,
     "start_time": "2023-07-04T08:36:26.943391",
     "status": "completed"
    },
    "tags": []
   },
   "source": [
    "Finding the Accuracy of the model"
   ]
  },
  {
   "cell_type": "code",
   "execution_count": 11,
   "id": "9e40b004",
   "metadata": {
    "execution": {
     "iopub.execute_input": "2023-07-04T08:36:26.960695Z",
     "iopub.status.busy": "2023-07-04T08:36:26.960310Z",
     "iopub.status.idle": "2023-07-04T08:36:31.975339Z",
     "shell.execute_reply": "2023-07-04T08:36:31.973999Z"
    },
    "papermill": {
     "duration": 5.023889,
     "end_time": "2023-07-04T08:36:31.977670",
     "exception": false,
     "start_time": "2023-07-04T08:36:26.953781",
     "status": "completed"
    },
    "tags": []
   },
   "outputs": [
    {
     "name": "stdout",
     "output_type": "stream",
     "text": [
      "Accuracy: 0.8713762079306898\n"
     ]
    }
   ],
   "source": [
    "y_pred = svm.predict(x_test)\n",
    "print(\"Accuracy: \"+str(accuracy_score(y_test, y_pred)))"
   ]
  },
  {
   "cell_type": "markdown",
   "id": "25bb7fe6",
   "metadata": {
    "papermill": {
     "duration": 0.005325,
     "end_time": "2023-07-04T08:36:31.989108",
     "exception": false,
     "start_time": "2023-07-04T08:36:31.983783",
     "status": "completed"
    },
    "tags": []
   },
   "source": [
    "Confusion matrix"
   ]
  },
  {
   "cell_type": "code",
   "execution_count": 12,
   "id": "b40eaa97",
   "metadata": {
    "execution": {
     "iopub.execute_input": "2023-07-04T08:36:32.002466Z",
     "iopub.status.busy": "2023-07-04T08:36:32.002082Z",
     "iopub.status.idle": "2023-07-04T08:36:32.009011Z",
     "shell.execute_reply": "2023-07-04T08:36:32.008000Z"
    },
    "papermill": {
     "duration": 0.016277,
     "end_time": "2023-07-04T08:36:32.011322",
     "exception": false,
     "start_time": "2023-07-04T08:36:31.995045",
     "status": "completed"
    },
    "tags": []
   },
   "outputs": [],
   "source": [
    "label_names = [0, 1]\n",
    "cmx = confusion_matrix(y_test, y_pred, labels=label_names)"
   ]
  },
  {
   "cell_type": "code",
   "execution_count": 13,
   "id": "e29095eb",
   "metadata": {
    "execution": {
     "iopub.execute_input": "2023-07-04T08:36:32.023824Z",
     "iopub.status.busy": "2023-07-04T08:36:32.023399Z",
     "iopub.status.idle": "2023-07-04T08:36:32.356840Z",
     "shell.execute_reply": "2023-07-04T08:36:32.355536Z"
    },
    "papermill": {
     "duration": 0.342572,
     "end_time": "2023-07-04T08:36:32.359305",
     "exception": false,
     "start_time": "2023-07-04T08:36:32.016733",
     "status": "completed"
    },
    "tags": []
   },
   "outputs": [
    {
     "data": {
      "image/png": "[encoded data removed]",
      "text/plain": [
       "<Figure size 640x480 with 2 Axes>"
      ]
     },
     "metadata": {},
     "output_type": "display_data"
    }
   ],
   "source": [
    "df_cm = pd.DataFrame(cmx)\n",
    "sns.set(font_scale=1.4) \n",
    "sns.heatmap(df_cm, annot=True, annot_kws={\"size\": 16}) \n",
    "title = \"Confusion Matrix for SVM results\"\n",
    "plt.title(title)\n",
    "plt.show()"
   ]
  },
  {
   "cell_type": "markdown",
   "id": "ddf6c3a4",
   "metadata": {
    "papermill": {
     "duration": 0.005788,
     "end_time": "2023-07-04T08:36:32.371270",
     "exception": false,
     "start_time": "2023-07-04T08:36:32.365482",
     "status": "completed"
    },
    "tags": []
   },
   "source": [
    "Predicting the gender for a random image"
   ]
  },
  {
   "cell_type": "code",
   "execution_count": 14,
   "id": "6e930dcb",
   "metadata": {
    "execution": {
     "iopub.execute_input": "2023-07-04T08:36:32.385119Z",
     "iopub.status.busy": "2023-07-04T08:36:32.384712Z",
     "iopub.status.idle": "2023-07-04T08:36:32.657533Z",
     "shell.execute_reply": "2023-07-04T08:36:32.656073Z"
    },
    "papermill": {
     "duration": 0.282931,
     "end_time": "2023-07-04T08:36:32.660129",
     "exception": false,
     "start_time": "2023-07-04T08:36:32.377198",
     "status": "completed"
    },
    "tags": []
   },
   "outputs": [
    {
     "data": {
      "image/png": "[encoded data removed]",
      "text/plain": [
       "<Figure size 640x480 with 1 Axes>"
      ]
     },
     "metadata": {},
     "output_type": "display_data"
    },
    {
     "name": "stdout",
     "output_type": "stream",
     "text": [
      "Your image was classified as a male\n"
     ]
    }
   ],
   "source": [
    "path='/kaggle/input/gender-classification-dataset/Validation/male/063443.jpg.jpg'\n",
    "image = cv2.imread(path)\n",
    "plt.imshow(image)\n",
    "plt.show()\n",
    "image = np.array(image).astype('uint8')\n",
    "image = cv2.resize(image, (64, 64))\n",
    "grey_image = cv2.cvtColor(image, cv2.COLOR_BGR2GRAY)\n",
    "hog_features, hog_images = hog(grey_image,\n",
    "                                      visualize=True,\n",
    "                                      block_norm='L2-Hys',\n",
    "                                      pixels_per_cell=(16, 16))\n",
    "image_array = np.array(hog_features)\n",
    "image_array = image_array.reshape(1, -1)\n",
    "svm_pred = svm.predict(image_array)\n",
    "print('Your image was classified as a ' + str(CATEGORIES[int(svm_pred[0])]))\n",
    "\n"
   ]
  }
 ],
 "metadata": {
  "kernelspec": {
   "display_name": "Python 3",
   "language": "python",
   "name": "python3"
  },
  "language_info": {
   "codemirror_mode": {
    "name": "ipython",
    "version": 3
   },
   "file_extension": ".py",
   "mimetype": "text/x-python",
   "name": "python",
   "nbconvert_exporter": "python",
   "pygments_lexer": "ipython3",
   "version": "3.10.10"
  },
  "papermill": {
   "default_parameters": {},
   "duration": 262.837444,
   "end_time": "2023-07-04T08:36:33.690265",
   "environment_variables": {},
   "exception": null,
   "input_path": "__notebook__.ipynb",
   "output_path": "__notebook__.ipynb",
   "parameters": {},
   "start_time": "2023-07-04T08:32:10.852821",
   "version": "2.4.0"
  }
 },
 "nbformat": 4,
 "nbformat_minor": 5
}
